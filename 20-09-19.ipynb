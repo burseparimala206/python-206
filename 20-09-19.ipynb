{
 "cells": [
  {
   "cell_type": "markdown",
   "metadata": {},
   "source": [
    "###  CHARECTERS,SENTENCES,WORDS "
   ]
  },
  {
   "cell_type": "code",
   "execution_count": 3,
   "metadata": {},
   "outputs": [
    {
     "name": "stdout",
     "output_type": "stream",
     "text": [
      "hryhwtyh mnhjtyhtht4\n",
      "no.of charecters--> 20\n",
      "no of words--> 2\n"
     ]
    }
   ],
   "source": [
    "n=input()\n",
    "c=0\n",
    "for i in n:\n",
    "    c=c+1\n",
    "print(\"no.of charecters-->\",c)\n",
    "n=n.split()\n",
    "d=0\n",
    "for j in n:\n",
    "    d=d+1\n",
    "print(\"no of words-->\",d)    \n",
    "    "
   ]
  },
  {
   "cell_type": "code",
   "execution_count": 21,
   "metadata": {
    "scrolled": true
   },
   "outputs": [
    {
     "ename": "IndentationError",
     "evalue": "unexpected indent (<ipython-input-21-a8b3bb078c8c>, line 5)",
     "output_type": "error",
     "traceback": [
      "\u001b[1;36m  File \u001b[1;32m\"<ipython-input-21-a8b3bb078c8c>\"\u001b[1;36m, line \u001b[1;32m5\u001b[0m\n\u001b[1;33m    c=c+1\u001b[0m\n\u001b[1;37m    ^\u001b[0m\n\u001b[1;31mIndentationError\u001b[0m\u001b[1;31m:\u001b[0m unexpected indent\n"
     ]
    }
   ],
   "source": [
    "a=input(\"enter number\")\n",
    "c=0\n",
    "for i in a:\n",
    "    print(\"1\",i)    \n",
    "    c=c+1  \n",
    "\n"
   ]
  },
  {
   "cell_type": "code",
   "execution_count": null,
   "metadata": {},
   "outputs": [],
   "source": []
  },
  {
   "cell_type": "code",
   "execution_count": null,
   "metadata": {},
   "outputs": [],
   "source": []
  }
 ],
 "metadata": {
  "kernelspec": {
   "display_name": "Python 3",
   "language": "python",
   "name": "python3"
  },
  "language_info": {
   "codemirror_mode": {
    "name": "ipython",
    "version": 3
   },
   "file_extension": ".py",
   "mimetype": "text/x-python",
   "name": "python",
   "nbconvert_exporter": "python",
   "pygments_lexer": "ipython3",
   "version": "3.7.3"
  }
 },
 "nbformat": 4,
 "nbformat_minor": 2
}
