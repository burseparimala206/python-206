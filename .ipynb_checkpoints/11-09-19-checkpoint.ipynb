{
 "cells": [
  {
   "cell_type": "markdown",
   "metadata": {},
   "source": [
    "### number palindrome"
   ]
  },
  {
   "cell_type": "code",
   "execution_count": 19,
   "metadata": {},
   "outputs": [
    {
     "name": "stdout",
     "output_type": "stream",
     "text": [
      "121\n",
      "121\n",
      "palindrome\n"
     ]
    },
    {
     "data": {
      "text/plain": [
       "int"
      ]
     },
     "execution_count": 19,
     "metadata": {},
     "output_type": "execute_result"
    }
   ],
   "source": [
    "\n",
    "p=input()\n",
    "k=p[::-1]\n",
    "print(k)\n",
    "if k==p:\n",
    "    print(\"palindrome\")\n",
    "else:\n",
    "    print(\"not a palindrome\")\n",
    "k=int(k) \n",
    "type(k)"
   ]
  },
  {
   "cell_type": "markdown",
   "metadata": {},
   "source": [
    "### special number"
   ]
  },
  {
   "cell_type": "code",
   "execution_count": 28,
   "metadata": {},
   "outputs": [
    {
     "name": "stdout",
     "output_type": "stream",
     "text": [
      "999\n",
      "special\n"
     ]
    }
   ],
   "source": [
    "p=int(input())\n",
    "if p<9:\n",
    "    print(\"below 9\")\n",
    "else:\n",
    "    cof=(p%10)\n",
    "    rem=(p//10)\n",
    "    sum=cof+rem\n",
    "    pro=cof*rem\n",
    "    res=sum+pro\n",
    "if res==p:\n",
    "    print(\"special\")\n",
    "else:\n",
    "    print(\"not a special\")"
   ]
  },
  {
   "cell_type": "markdown",
   "metadata": {},
   "source": [
    "### perfect number"
   ]
  },
  {
   "cell_type": "code",
   "execution_count": 3,
   "metadata": {},
   "outputs": [
    {
     "name": "stdout",
     "output_type": "stream",
     "text": [
      "1\n",
      "100\n",
      "6\n",
      "28\n"
     ]
    }
   ],
   "source": [
    "lb=int(input())\n",
    "ub=int(input())\n",
    "p=0\n",
    "\n",
    "def factor(n,p):\n",
    "    for i in range(1,n):\n",
    "        if n%i==0:\n",
    "            p=p+i\n",
    "    if p==n:\n",
    "        print(p)\n",
    "for k in range(lb,ub+1):\n",
    "    factor(k,p)\n",
    "    \n",
    "    \n"
   ]
  },
  {
   "cell_type": "markdown",
   "metadata": {},
   "source": [
    "### prime number in a given range"
   ]
  },
  {
   "cell_type": "code",
   "execution_count": 4,
   "metadata": {},
   "outputs": [
    {
     "name": "stdout",
     "output_type": "stream",
     "text": [
      "1\n",
      "10\n",
      "2\n",
      "3\n",
      "5\n",
      "7\n"
     ]
    }
   ],
   "source": [
    " lb=int(input())\n",
    "ub=int(input())\n",
    "p=0\n",
    "\n",
    "def factor(n,p):\n",
    "    for i in range(1,n):\n",
    "        if n%i==0:\n",
    "            p=p+i\n",
    "    if p==1:\n",
    "        print(n)\n",
    "for k in range(lb,ub+1):\n",
    "    factor(k,p)\n",
    "    \n",
    "    \n"
   ]
  },
  {
   "cell_type": "markdown",
   "metadata": {},
   "source": [
    " "
   ]
  }
 ],
 "metadata": {
  "kernelspec": {
   "display_name": "Python 3",
   "language": "python",
   "name": "python3"
  },
  "language_info": {
   "codemirror_mode": {
    "name": "ipython",
    "version": 3
   },
   "file_extension": ".py",
   "mimetype": "text/x-python",
   "name": "python",
   "nbconvert_exporter": "python",
   "pygments_lexer": "ipython3",
   "version": "3.7.3"
  }
 },
 "nbformat": 4,
 "nbformat_minor": 2
}
