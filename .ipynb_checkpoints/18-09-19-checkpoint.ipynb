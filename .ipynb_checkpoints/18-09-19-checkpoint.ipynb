{
 "cells": [
  {
   "cell_type": "markdown",
   "metadata": {},
   "source": [
    "### SEVEN SEGMENT"
   ]
  },
  {
   "cell_type": "code",
   "execution_count": null,
   "metadata": {},
   "outputs": [],
   "source": [
    "d={0:6,1:2,2:5,3:5,4:4,5:5,6:6,7:3,8:7,9:6}\n",
    "a=input(\"enter number\")\n",
    "c=0\n",
    "for i in a:\n",
    "    c=c+d[int(i)]\n",
    "print(c)    \n",
    "       \n",
    "\n"
   ]
  },
  {
   "cell_type": "markdown",
   "metadata": {},
   "source": [
    "### MAZE PUZZLE"
   ]
  },
  {
   "cell_type": "code",
   "execution_count": 2,
   "metadata": {},
   "outputs": [
    {
     "name": "stdout",
     "output_type": "stream",
     "text": [
      "llddr\n",
      "-1 -2\n"
     ]
    }
   ],
   "source": [
    "t=input()\n",
    "x=0\n",
    "y=0\n",
    "for i in t:\n",
    "    if i==\"l\":\n",
    "        x=x-1\n",
    "    elif i==\"r\":\n",
    "        x=x+1\n",
    "    elif i=='u':\n",
    "        y=y+1\n",
    "    elif i=='d':\n",
    "        y=y-1\n",
    "print(x,y)       \n",
    "    \n"
   ]
  },
  {
   "cell_type": "code",
   "execution_count": null,
   "metadata": {},
   "outputs": [],
   "source": []
  }
 ],
 "metadata": {
  "kernelspec": {
   "display_name": "Python 3",
   "language": "python",
   "name": "python3"
  },
  "language_info": {
   "codemirror_mode": {
    "name": "ipython",
    "version": 3
   },
   "file_extension": ".py",
   "mimetype": "text/x-python",
   "name": "python",
   "nbconvert_exporter": "python",
   "pygments_lexer": "ipython3",
   "version": "3.7.3"
  }
 },
 "nbformat": 4,
 "nbformat_minor": 2
}
