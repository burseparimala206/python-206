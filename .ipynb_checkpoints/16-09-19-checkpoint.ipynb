{
 "cells": [
  {
   "cell_type": "markdown",
   "metadata": {},
   "source": [
    "### topper from list"
   ]
  },
  {
   "cell_type": "code",
   "execution_count": null,
   "metadata": {},
   "outputs": [],
   "source": [
    "d={\"a\":65,\"c\":82,\"f\":36,\"d\":72,\"e\":91}\n",
    "m=max(d.values())\n",
    "k=\"\"\n",
    "i=1\n",
    "for i in d:\n",
    "        if d[i]==m:\n",
    "            print(i,\"topper\")\n",
    "            k=i\n",
    "d.pop(k)            \n",
    "\n"
   ]
  },
  {
   "cell_type": "code",
   "execution_count": null,
   "metadata": {},
   "outputs": [],
   "source": [
    "d={\"a\":65,\"c\":82,\"f\":36,\"d\":72,\"e\":91}\n",
    "t=d.copy()\n",
    "j=1\n",
    "while j<=3:\n",
    "    m=max(t.values())\n",
    "    for i in d:\n",
    "        if d[i]==m:\n",
    "            print(i,d[i],\"topper\")\n",
    "            t.pop(i)\n",
    "    j=j+1       "
   ]
  }
 ],
 "metadata": {
  "kernelspec": {
   "display_name": "Python 3",
   "language": "python",
   "name": "python3"
  },
  "language_info": {
   "codemirror_mode": {
    "name": "ipython",
    "version": 3
   },
   "file_extension": ".py",
   "mimetype": "text/x-python",
   "name": "python",
   "nbconvert_exporter": "python",
   "pygments_lexer": "ipython3",
   "version": "3.7.3"
  }
 },
 "nbformat": 4,
 "nbformat_minor": 2
}
