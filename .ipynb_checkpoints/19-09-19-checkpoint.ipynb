{
 "cells": [
  {
   "cell_type": "markdown",
   "metadata": {},
   "source": [
    "## FILES CONCEPT"
   ]
  },
  {
   "cell_type": "code",
   "execution_count": 8,
   "metadata": {},
   "outputs": [],
   "source": [
    "filepath=(\"./parimala-206/hi.txt\")\n",
    "with open(filepath,'w') as f:\n",
    "    f.write(\"hai\\nhello\\ngood morning\\nkalyan\")\n",
    "filepath=(\"./parimala-206/hello.txt\")\n",
    "with open(filepath,'w') as f:\n",
    "    f.write(\"hai\\nhello\\ngood morning\\nkalyan\")\n",
    "        \n",
    "    "
   ]
  },
  {
   "cell_type": "code",
   "execution_count": 6,
   "metadata": {},
   "outputs": [
    {
     "name": "stdout",
     "output_type": "stream",
     "text": [
      "good morning\n",
      "\n"
     ]
    }
   ],
   "source": [
    "filepath=(\"./parimala-206/hi.txt\")\n",
    "with open(filepath,'r') as f:\n",
    "    data=list(f.readlines())\n",
    "    print(data[2])\n"
   ]
  },
  {
   "cell_type": "code",
   "execution_count": 1,
   "metadata": {},
   "outputs": [],
   "source": [
    "filepath=(\"./parimala-206/hi.txt\")\n",
    "with open(filepath,'a') as f:\n",
    "    f.write(\"\\nWait an hour\")"
   ]
  },
  {
   "cell_type": "code",
   "execution_count": 49,
   "metadata": {},
   "outputs": [
    {
     "name": "stdout",
     "output_type": "stream",
     "text": [
      "good morning\n",
      "\n"
     ]
    }
   ],
   "source": [
    "filepath=(\"./parimala-206/hi.txt\")\n",
    "with open(filepath,'r') as f:\n",
    "    data=list(f.readlines())\n",
    "    print(data[2])\n"
   ]
  },
  {
   "cell_type": "code",
   "execution_count": 50,
   "metadata": {},
   "outputs": [
    {
     "name": "stdout",
     "output_type": "stream",
     "text": [
      "['venki', 'chandra', 'gopi', 'kiran']\n"
     ]
    }
   ],
   "source": [
    "l=[\"venki\",\"chandra\",\"gopi\",\"venki\",\"gopi\",\"kiran\"]\n",
    "t=[]\n",
    "for i in l:\n",
    "    if i not in t:\n",
    "        t.append(i)\n",
    "print(t)\n"
   ]
  },
  {
   "cell_type": "markdown",
   "metadata": {},
   "source": [
    "## DIVISIBLE IN LIMITS"
   ]
  },
  {
   "cell_type": "code",
   "execution_count": 11,
   "metadata": {},
   "outputs": [
    {
     "name": "stdout",
     "output_type": "stream",
     "text": [
      "1 100 10\n",
      "10\n"
     ]
    }
   ],
   "source": [
    "n=input()\n",
    "n=n.split()\n",
    "lb=int(n[0])\n",
    "ub=int(n[1])\n",
    "div=int(n[2])\n",
    "c=0\n",
    "for i in range(lb,ub+1):\n",
    "    if i%div==0:\n",
    "        c=c+1\n",
    "print(c)\n",
    "    "
   ]
  },
  {
   "cell_type": "code",
   "execution_count": null,
   "metadata": {},
   "outputs": [],
   "source": []
  }
 ],
 "metadata": {
  "kernelspec": {
   "display_name": "Python 3",
   "language": "python",
   "name": "python3"
  },
  "language_info": {
   "codemirror_mode": {
    "name": "ipython",
    "version": 3
   },
   "file_extension": ".py",
   "mimetype": "text/x-python",
   "name": "python",
   "nbconvert_exporter": "python",
   "pygments_lexer": "ipython3",
   "version": "3.7.3"
  }
 },
 "nbformat": 4,
 "nbformat_minor": 2
}
