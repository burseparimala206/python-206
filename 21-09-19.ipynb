{
 "cells": [
  {
   "cell_type": "code",
   "execution_count": 11,
   "metadata": {},
   "outputs": [
    {
     "name": "stdout",
     "output_type": "stream",
     "text": [
      "['hai\\n', 'hello\\n', 'good morning\\n', 'kalyan']\n",
      "\n",
      "[]\n"
     ]
    }
   ],
   "source": [
    "filepath=(\"./parimala-206/hi.txt\")\n",
    "with open(filepath,'r') as f:\n",
    "    a=f.readlines()\n",
    "    print(a)\n",
    "    b=f.read()\n",
    "    print(b)\n",
    "    c=f.readlines()\n",
    "    print(c)"
   ]
  },
  {
   "cell_type": "markdown",
   "metadata": {},
   "source": [
    "### 'SH' 'SM' 'EH' 'EM' "
   ]
  },
  {
   "cell_type": "code",
   "execution_count": 4,
   "metadata": {},
   "outputs": [
    {
     "name": "stdout",
     "output_type": "stream",
     "text": [
      "enter sh and sm1 15\n",
      "enter eh and em5 30\n",
      "4 15\n"
     ]
    }
   ],
   "source": [
    "n=input(\"enter sh and sm\")\n",
    "n=n.split()\n",
    "i=int(n[0])\n",
    "j=int(n[1])\n",
    "m=input(\"enter eh and em\")\n",
    "m=m.split()\n",
    "k=int(m[0])\n",
    "l=int(m[1])\n",
    "p=abs(k-i)\n",
    "l=abs(j-l)\n",
    "print(p,l)                  "
   ]
  },
  {
   "cell_type": "code",
   "execution_count": null,
   "metadata": {},
   "outputs": [],
   "source": [
    "t=int(input(\"test cases\"))\n",
    "for i in range(t):\n",
    "    n=input().split()\n",
    "    sh=int(n[0])\n",
    "    sm=int(n[1])\n",
    "    eh=int(n[2])\n",
    "    em=int(n[3])\n",
    "    if((eh and sh<=24)and(em and sm<=60)):\n",
    "        if"
   ]
  },
  {
   "cell_type": "code",
   "execution_count": null,
   "metadata": {},
   "outputs": [],
   "source": []
  }
 ],
 "metadata": {
  "kernelspec": {
   "display_name": "Python 3",
   "language": "python",
   "name": "python3"
  },
  "language_info": {
   "codemirror_mode": {
    "name": "ipython",
    "version": 3
   },
   "file_extension": ".py",
   "mimetype": "text/x-python",
   "name": "python",
   "nbconvert_exporter": "python",
   "pygments_lexer": "ipython3",
   "version": "3.7.3"
  }
 },
 "nbformat": 4,
 "nbformat_minor": 2
}
